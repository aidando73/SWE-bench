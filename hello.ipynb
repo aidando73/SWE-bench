{
 "cells": [
  {
   "cell_type": "code",
   "execution_count": null,
   "metadata": {},
   "outputs": [],
   "source": [
    "from datasets import load_dataset\n",
    "swebench = load_dataset('princeton-nlp/SWE-bench_Lite', split='test')\n",
    "\n",
    "df = swebench.to_pandas()"
   ]
  }
 ],
 "metadata": {
  "language_info": {
   "name": "python"
  }
 },
 "nbformat": 4,
 "nbformat_minor": 2
}
